{
  "nbformat": 4,
  "nbformat_minor": 0,
  "metadata": {
    "colab": {
      "provenance": [],
      "gpuType": "T4",
      "include_colab_link": true
    },
    "kernelspec": {
      "name": "python3",
      "display_name": "Python 3"
    },
    "language_info": {
      "name": "python"
    },
    "accelerator": "GPU"
  },
  "cells": [
    {
      "cell_type": "markdown",
      "metadata": {
        "id": "view-in-github",
        "colab_type": "text"
      },
      "source": [
        "<a href=\"https://colab.research.google.com/github/ilkelatifoglu/BTO-Core/blob/main/FinalCode_all_integrated_with_FocalLoss_AugmentationCorrected.ipynb\" target=\"_parent\"><img src=\"https://colab.research.google.com/assets/colab-badge.svg\" alt=\"Open In Colab\"/></a>"
      ]
    },
    {
      "cell_type": "code",
      "execution_count": 9,
      "metadata": {
        "id": "D8UFXb4zta5f"
      },
      "outputs": [],
      "source": [
        "%%capture\n",
        "import torch\n",
        "import torch.nn as nn\n",
        "import torch.nn.functional as F\n",
        "import torch.optim as optim\n",
        "from torch.utils.data import Dataset, DataLoader\n",
        "from sklearn.model_selection import train_test_split, StratifiedKFold\n",
        "from sklearn.metrics import confusion_matrix, classification_report, accuracy_score, f1_score, precision_score, recall_score\n",
        "import numpy as np\n",
        "import matplotlib.pyplot as plt\n",
        "import seaborn as sns\n",
        "from scipy.io import loadmat\n",
        "from scipy.signal import butter, filtfilt, find_peaks\n",
        "from pathlib import Path\n",
        "import pandas as pd\n",
        "from tqdm import tqdm\n",
        "from collections import Counter\n",
        "import os\n",
        "from google.colab import drive\n",
        "from torchvision import transforms\n",
        "from PIL import Image\n",
        "import matplotlib.cm as mpl_cm\n",
        "import torchvision.models as tv_models\n",
        "\n",
        "drive.mount(\"/content/drive\")\n",
        "os.environ['DRIVE_PROJECT_DIR'] = '/content/drive/MyDrive/CS 464 Project'\n",
        "os.environ['LOCAL_PROJECT_DIR'] = '/content/project_dir'\n",
        "\n",
        "!mkdir -p \"$LOCAL_PROJECT_DIR\"\n",
        "!rsync -azv --progress \"$DRIVE_PROJECT_DIR/\" \"$LOCAL_PROJECT_DIR/\"\n",
        "drive.flush_and_unmount()\n",
        "\n",
        "!apt-get install -y unzip\n",
        "!unzip -o \"$LOCAL_PROJECT_DIR/training2017-20250406T085129Z-001.zip\" -d \"$LOCAL_PROJECT_DIR/\"\n",
        "\n",
        "training_data = Path(os.environ[\"LOCAL_PROJECT_DIR\"]) / \"training2017\"\n",
        "\n",
        "reference_path = training_data / \"REFERENCE.csv\"\n",
        "reference_df = pd.read_csv(reference_path, header=None, names=['record_name', 'label'])\n",
        "\n",
        "label_map = {'N': 0, 'A': 1, 'O': 2, '~': 3}\n",
        "reference_df['label_num'] = reference_df['label'].map(label_map)"
      ]
    },
    {
      "cell_type": "code",
      "source": [
        "\n",
        "device = torch.device(\"cuda\" if torch.cuda.is_available() else \"cpu\")\n",
        "\n",
        "# Data preprocessing functions\n",
        "def butter_bandpass(lowcut, highcut, fs, order=5):\n",
        "    nyq = 0.5 * fs\n",
        "    low = lowcut / nyq\n",
        "    high = highcut / nyq\n",
        "    b, a = butter(order, [low, high], btype='band')\n",
        "    return b, a\n",
        "\n",
        "def bandpass_filter(data, lowcut=0.5, highcut=40.0, fs=300, order=5):\n",
        "    b, a = butter_bandpass(lowcut, highcut, fs, order=order)\n",
        "    y = filtfilt(b, a, data)\n",
        "    return y\n",
        "\n",
        "def segment_signal(signal, fs, segment_duration):\n",
        "    segment_length = int(segment_duration * fs)\n",
        "    num_segments = len(signal) // segment_length\n",
        "    segments = [signal[i*segment_length:(i+1)*segment_length] for i in range(num_segments)]\n",
        "    return segments\n",
        "\n",
        "#def augment_time_shift(segment, fs, shift_max_seconds=0.5):\n",
        "    #shift = np.random.randint(-int(shift_max_seconds*fs), int(shift_max_seconds*fs))\n",
        "    #if shift > 0:\n",
        "       # augmented = np.concatenate([np.zeros(shift), segment[:-shift]])\n",
        "    #elif shift < 0:\n",
        "      #  augmented = np.concatenate([segment[-shift:], np.zeros(-shift)])\n",
        "    #else:\n",
        "     #   augmented = segment.copy()\n",
        "   # return augmented\n",
        "\n",
        "#def augment_scaling(segment, scale_range=(0.9, 1.1)):\n",
        "   # scale = np.random.uniform(*scale_range)\n",
        "   # return segment * scale\n",
        "\n",
        "#def augment_noise(segment, noise_level=0.01):\n",
        "  # noise = np.random.normal(0, noise_level, segment.shape)\n",
        "   # return segment + noise\n",
        "\n",
        "##def augment_segment(segment, fs):\n",
        "   # seg_aug = augment_time_shift(segment, fs)\n",
        "   #seg_aug = augment_scaling(seg_aug)\n",
        "   # seg_aug = augment_noise(seg_aug)\n",
        "   #return seg_aug\n",
        "\n",
        "def process_record(record_path, fs=300, segment_duration=30, augment_count=0):\n",
        "    record = loadmat(record_path)\n",
        "    ecg_signal = record['val'][0]\n",
        "\n",
        "    # Apply bandpass filter\n",
        "    # filtered_signal = bandpass_filter(ecg_signal, lowcut=0.5, highcut=40, fs=fs, order=4)\n",
        "    filtered_signal = np.array(ecg_signal)\n",
        "\n",
        "    # Normalize\n",
        "    normalized_signal = (filtered_signal - np.mean(filtered_signal)) / np.std(filtered_signal)\n",
        "\n",
        "    # Pad or truncate\n",
        "    # required_length = segment_duration * fs\n",
        "    # if len(normalized_signal) < required_length:\n",
        "    #     pad_length = required_length - len(normalized_signal)\n",
        "    #     normalized_signal = np.pad(normalized_signal, (0, pad_length), mode='constant')\n",
        "    # else:\n",
        "    #     normalized_signal = normalized_signal[:required_length * (len(normalized_signal) // required_length)]\n",
        "\n",
        "    # Segment\n",
        "    segments = segment_signal(normalized_signal, fs, segment_duration)\n",
        "\n",
        "    # Augment\n",
        "    augmented_segments = []\n",
        "    #for seg in segments:\n",
        "       # for _ in range(augment_count):\n",
        "          #  augmented_seg = augment_segment(seg, fs)\n",
        "           # augmented_segments.append(augmented_seg)\n",
        "\n",
        "    return segments, augmented_segments\n",
        "\n",
        "def segment_to_ecg_image(segment, fs=300, bar_height=32, cmap_name='viridis'):\n",
        "    # Find R-peaks\n",
        "    min_dist = int(0.25 * fs)\n",
        "    peaks, _ = find_peaks(segment, distance=min_dist)\n",
        "    amps = segment[peaks] if len(peaks) > 0 else np.array([0.0])\n",
        "    # Normalize amplitudes to [0,1]\n",
        "    amin, amax = amps.min(), amps.max()\n",
        "    norm = (amps - amin)/(amax-amin) if amax>amin else np.zeros_like(amps)\n",
        "    # Map to RGB via a matplotlib colormap\n",
        "    cmap = mpl_cm.get_cmap(cmap_name)\n",
        "    colors = (cmap(norm)[:, :3]*255).astype(np.uint8)\n",
        "    # Build H×W×3 array (bars of height=bar_height)\n",
        "    img_arr = np.tile(colors[np.newaxis,:,:], (bar_height,1,1))\n",
        "    return Image.fromarray(img_arr, mode='RGB')\n",
        "\n",
        "image_transform = transforms.Compose([\n",
        "    transforms.Resize((224,224)),\n",
        "    transforms.ToTensor(),\n",
        "    transforms.Normalize([0.485,0.456,0.406],\n",
        "                         [0.229,0.224,0.225])\n",
        "])\n",
        "\n",
        "class ECGImageDataset(Dataset):\n",
        "    def __init__(self, segments, labels, transform=image_transform):\n",
        "        self.segments = segments\n",
        "        self.labels   = labels\n",
        "        self.transform= transform\n",
        "    def __len__(self): return len(self.segments)\n",
        "    def __getitem__(self, idx):\n",
        "        seg = self.segments[idx]\n",
        "        img = segment_to_ecg_image(seg)\n",
        "        img = self.transform(img)\n",
        "        lbl = self.labels[idx]\n",
        "        return img, torch.tensor(lbl, dtype=torch.long)\n",
        "\n",
        "# Dataset class\n",
        "class ECGSegmentDataset(Dataset):\n",
        "    def __init__(self, segments, labels):\n",
        "        self.segments = segments\n",
        "        self.labels = labels\n",
        "\n",
        "    def __len__(self):\n",
        "        return len(self.segments)\n",
        "\n",
        "    def __getitem__(self, idx):\n",
        "        segment = self.segments[idx]\n",
        "        segment = segment.reshape(1, -1)  # Shape: [1, 9000]\n",
        "        label = self.labels[idx]  # Single integer label\n",
        "        return torch.FloatTensor(segment), torch.tensor(label, dtype=torch.long)\n",
        "\n",
        "# Model architectures\n",
        "class ECG_CNN(nn.Module):\n",
        "    def __init__(self, input_length=9000, num_classes=4):\n",
        "        super(ECG_CNN, self).__init__()\n",
        "        self.conv1 = nn.Conv1d(1, 32, kernel_size=5, stride=1, padding=2)\n",
        "        self.bn1 = nn.BatchNorm1d(32)\n",
        "        self.pool1 = nn.MaxPool1d(kernel_size=2, stride=2)\n",
        "\n",
        "        self.conv2 = nn.Conv1d(32, 64, kernel_size=5, stride=1, padding=2)\n",
        "        self.bn2 = nn.BatchNorm1d(64)\n",
        "        self.pool2 = nn.MaxPool1d(kernel_size=2, stride=2)\n",
        "\n",
        "        self.conv3 = nn.Conv1d(64, 128, kernel_size=3, stride=1, padding=1)\n",
        "        self.bn3 = nn.BatchNorm1d(128)\n",
        "        self.pool3 = nn.MaxPool1d(kernel_size=2, stride=2)\n",
        "\n",
        "        self.flattened_size = 128 * (input_length // 8)\n",
        "        self.fc1 = nn.Linear(self.flattened_size, 128)\n",
        "        self.dropout = nn.Dropout(0.5)\n",
        "        self.fc2 = nn.Linear(128, num_classes)\n",
        "\n",
        "    def forward(self, x):\n",
        "        x = self.pool1(F.relu(self.bn1(self.conv1(x))))\n",
        "        x = self.pool2(F.relu(self.bn2(self.conv2(x))))\n",
        "        x = self.pool3(F.relu(self.bn3(self.conv3(x))))\n",
        "        x = x.view(x.size(0), -1)\n",
        "        x = F.relu(self.fc1(x))\n",
        "        x = self.dropout(x)\n",
        "        x = self.fc2(x)\n",
        "        return x\n",
        "\n",
        "class ECG_LSTM(nn.Module):\n",
        "    lstm: nn.Module\n",
        "    dense: nn.Module\n",
        "\n",
        "    def __init__(self, input_length=9000, num_classes=4):\n",
        "        super().__init__()\n",
        "        self.lstm = nn.LSTM(1, 64, batch_first=True)\n",
        "        self.dense1 = nn.Linear(64, 8)\n",
        "        # self.dense1_5 = nn.Linear(128, 64)\n",
        "        self.dense2 = nn.Linear(8, 4)\n",
        "\n",
        "    def forward(self, x):\n",
        "        x = torch.reshape(x, (x.shape[0], x.shape[-1], 1))\n",
        "        lstm_out, (ht, ct) = self.lstm(x)\n",
        "        out = torch.max(lstm_out, dim=1)[0]\n",
        "        dense1_in = out\n",
        "        dense2_in = F.tanh(self.dense1(dense1_in))\n",
        "        result = self.dense2(dense2_in)\n",
        "        return result\n",
        "\n",
        "class ECG_BILSTM(ECG_LSTM):\n",
        "    def __init__(self, input_length=9000, num_classes=4):\n",
        "        super().__init__()\n",
        "        self.lstm = nn.LSTM(self.lstm.input_size, self.lstm.hidden_size, batch_first=True, bidirectional=True)\n",
        "        self.dense1 = nn.Linear(self.lstm.hidden_size*2, self.dense1.out_features)\n",
        "\n",
        "class ECG_RNN(nn.Module):\n",
        "    def __init__(self, input_size=9000, hidden_size=64, num_layers=2, num_classes=4, bidirectional=True):\n",
        "        super().__init__()\n",
        "        self.gru = nn.GRU(input_size, hidden_size, num_layers,\n",
        "                          batch_first=True, bidirectional=bidirectional)\n",
        "        self.proj = nn.Sequential(\n",
        "            nn.Linear(hidden_size*(2 if bidirectional else 1), 128),\n",
        "            nn.ReLU(),\n",
        "            nn.BatchNorm1d(128),\n",
        "            nn.Dropout(0.3)\n",
        "        )\n",
        "        self.fc = nn.Linear(128, num_classes)\n",
        "\n",
        "    def forward(self, x):\n",
        "        out, _ = self.gru(x)\n",
        "        h = out[:, -1, :]\n",
        "        h = self.proj(h)\n",
        "        return self.fc(h)\n",
        "\n",
        "class ECG_TransferNet(nn.Module):\n",
        "    def __init__(self, num_classes=4):\n",
        "        super().__init__()\n",
        "        # load and freeze EfficientNet-V2 backbone\n",
        "        self.backbone = tv_models.efficientnet_v2_s(pretrained=True)\n",
        "        for p in self.backbone.features.parameters():\n",
        "            p.requires_grad = False\n",
        "        # new head\n",
        "        in_feats = self.backbone.classifier[1].in_features\n",
        "        self.backbone.classifier[1] = nn.Linear(in_feats, num_classes)\n",
        "\n",
        "    def forward(self, x):\n",
        "        return self.backbone(x)\n",
        "\n",
        "def train_model(model, train_loader, val_loader, criterion, optimizer, num_epochs=20, patience=5):\n",
        "    model = model.to(device)\n",
        "    train_losses = []\n",
        "    val_losses = []\n",
        "    train_accs = []\n",
        "    val_accs = []\n",
        "\n",
        "    best_val_loss = float('inf')\n",
        "    trigger_times = 0\n",
        "\n",
        "    for epoch in range(num_epochs):\n",
        "        model.train()\n",
        "        train_loss = 0.0\n",
        "        train_correct = 0\n",
        "        train_total = 0\n",
        "\n",
        "        for inputs, labels in tqdm(train_loader, desc=f\"Epoch {epoch+1}/{num_epochs}\"):\n",
        "            inputs = inputs.to(device)\n",
        "            labels = labels.to(device)  # Now shape: [batch_size]\n",
        "\n",
        "            optimizer.zero_grad()\n",
        "            outputs = model(inputs)  # Shape: [batch_size, num_classes]\n",
        "            loss = criterion(outputs, labels)\n",
        "            loss.backward()\n",
        "            optimizer.step()\n",
        "\n",
        "            train_loss += loss.item() * inputs.size(0)\n",
        "            _, predicted = torch.max(outputs, 1)\n",
        "            train_total += labels.size(0)\n",
        "            train_correct += (predicted == labels).sum().item()\n",
        "\n",
        "        train_loss = train_loss / len(train_loader.dataset)\n",
        "        train_acc = train_correct / train_total\n",
        "        train_losses.append(train_loss)\n",
        "        train_accs.append(train_acc)\n",
        "\n",
        "        model.eval()\n",
        "        val_loss = 0.0\n",
        "        val_correct = 0\n",
        "        val_total = 0\n",
        "\n",
        "        with torch.no_grad():\n",
        "            for inputs, labels in val_loader:\n",
        "                inputs = inputs.to(device)\n",
        "                labels = labels.to(device).squeeze()\n",
        "\n",
        "                outputs = model(inputs)\n",
        "                loss = criterion(outputs, labels)\n",
        "\n",
        "                val_loss += loss.item() * inputs.size(0)\n",
        "                _, predicted = torch.max(outputs, 1)\n",
        "                val_total += labels.size(0)\n",
        "                val_correct += (predicted == labels).sum().item()\n",
        "\n",
        "        val_loss = val_loss / len(val_loader.dataset)\n",
        "        val_acc = val_correct / val_total\n",
        "        val_losses.append(val_loss)\n",
        "        val_accs.append(val_acc)\n",
        "\n",
        "        print(f\"Train Loss: {train_loss:.4f}, Train Acc: {train_acc:.4f}\")\n",
        "        print(f\"Val Loss: {val_loss:.4f}, Val Acc: {val_acc:.4f}\")\n",
        "\n",
        "        # Early stopping\n",
        "        if val_loss < best_val_loss:\n",
        "            best_val_loss = val_loss\n",
        "            trigger_times = 0\n",
        "            torch.save(model.state_dict(), 'best_model.pth')\n",
        "        else:\n",
        "            trigger_times += 1\n",
        "            if trigger_times >= patience:\n",
        "                print(\"Early stopping!\")\n",
        "                break\n",
        "\n",
        "    return model, {'train_losses': train_losses, 'val_losses': val_losses,\n",
        "                  'train_accs': train_accs, 'val_accs': val_accs}\n",
        "\n",
        "# Process files\n",
        "def process_files(files, augment_count=0):\n",
        "    all_segments = []\n",
        "    labels = []\n",
        "    for mat_file, label in files:\n",
        "        segs, aug_segs = process_record(mat_file, augment_count=augment_count)\n",
        "        all_segments.extend(segs + aug_segs)\n",
        "        labels.extend([label] * (len(segs) + len(aug_segs)))\n",
        "    return all_segments, labels"
      ],
      "metadata": {
        "id": "r0OGSiPwvMFu"
      },
      "execution_count": 10,
      "outputs": []
    },
    {
      "cell_type": "code",
      "source": [
        "# Create file-label pairs\n",
        "mat_files = list(training_data.glob(\"*.mat\"))\n",
        "file_label_pairs = []\n",
        "for mat_file in mat_files:\n",
        "    record_name = mat_file.stem\n",
        "    if record_name in reference_df['record_name'].values:\n",
        "        label = reference_df.loc[reference_df['record_name'] == record_name, 'label_num'].values[0]\n",
        "        file_label_pairs.append((mat_file, label))\n",
        "\n",
        "# Split data\n",
        "files_train, files_val = train_test_split(\n",
        "    file_label_pairs, test_size=0.2, random_state=42,\n",
        "    stratify=[label for (file, label) in file_label_pairs]\n",
        ")\n",
        "\n",
        "# Apply basic augmentation during initial loading\n",
        "train_segments, train_labels = process_files(files_train, augment_count=0)\n",
        "val_segments, val_labels = process_files(files_val, augment_count=0)\n",
        "\n",
        "# Class-balancing with advanced augmentation\n",
        "print(\"Original class distribution:\", np.bincount(train_labels, minlength=4))\n",
        "\n",
        "# Get counts of each class\n",
        "class_counts = np.bincount(train_labels, minlength=4)\n",
        "max_count = max(class_counts)\n",
        "print(f\"Balancing classes to {max_count} samples each\")\n",
        "\n",
        "# Prepare for balanced dataset\n",
        "balanced_segments = []\n",
        "balanced_labels = []\n",
        "\n",
        "# NOTE: always returns a numpy array\n",
        "def augment_signal(signal, fs=300):\n",
        "    # To Ensure signal is a numpy array and has the correct shape\n",
        "    if signal is None or len(signal) == 0:\n",
        "        # Return a copy of a default signal if input is invalid\n",
        "        print(\"Warning: Invalid signal received for augmentation\")\n",
        "        return np.zeros(9000)  # Default signal length\n",
        "\n",
        "    # Make a copy to avoid modifying the original\n",
        "    signal = np.array(signal).copy()\n",
        "\n",
        "    aug_type = np.random.choice(['shift', 'noise', 'scale', 'combined'], p=[0.3, 0.2, 0.2, 0.3])\n",
        "\n",
        "    if aug_type == 'shift':\n",
        "        # Time shift up to 5% of signal length\n",
        "        shift = np.random.randint(-len(signal)//20, len(signal)//20)\n",
        "        if shift > 0:\n",
        "            return np.pad(signal[:-shift], (shift, 0), mode='edge')\n",
        "        elif shift < 0:\n",
        "            return np.pad(signal[-shift:], (0, -shift), mode='edge')\n",
        "        else:\n",
        "            return signal.copy()  # Explicit return for zero shift\n",
        "\n",
        "    elif aug_type == 'noise':\n",
        "        # Add Gaussian noise with small amplitude\n",
        "        noise_level = np.random.uniform(0.01, 0.05) * np.std(signal)\n",
        "        return signal + np.random.normal(0, noise_level, size=signal.shape)\n",
        "\n",
        "    elif aug_type == 'scale':\n",
        "        # Scale amplitude by a random factor\n",
        "        scale = np.random.uniform(0.85, 1.15)\n",
        "        return signal * scale\n",
        "\n",
        "    else:  # 'combined'\n",
        "        # Apply multiple augmentations\n",
        "        augmented = signal.copy()\n",
        "        # Small time shift\n",
        "        shift = np.random.randint(-len(signal)//40, len(signal)//40)\n",
        "        if shift > 0:\n",
        "            augmented = np.pad(augmented[:-shift], (shift, 0), mode='edge')\n",
        "        elif shift < 0:\n",
        "            augmented = np.pad(augmented[-shift:], (0, -shift), mode='edge')\n",
        "        # Scale with smaller range\n",
        "        scale = np.random.uniform(0.9, 1.1)\n",
        "        augmented = augmented * scale\n",
        "        # Add small noise\n",
        "        noise_level = np.random.uniform(0.005, 0.02) * np.std(signal)\n",
        "        augmented = augmented + np.random.normal(0, noise_level, size=augmented.shape)\n",
        "        return augmented\n",
        "\n",
        "# For each class, keep all original samples and augment the rest\n",
        "for class_idx in range(4):\n",
        "    # Find indices of this class\n",
        "    indices = np.where(np.array(train_labels) == class_idx)[0]\n",
        "\n",
        "    if len(indices) == 0:\n",
        "        print(f\"Warning: No samples for class {class_idx}\")\n",
        "        continue\n",
        "\n",
        "    # Add all original samples\n",
        "    class_segments = [train_segments[i] for i in indices]\n",
        "    balanced_segments.extend(class_segments)\n",
        "    balanced_labels.extend([class_idx] * len(class_segments))\n",
        "\n",
        "    # If we need more samples, create augmented versions\n",
        "    if len(indices) < max_count:\n",
        "        # Calculate how many more we need\n",
        "        needed = max_count - len(indices)\n",
        "        # Sample with replacement and augment\n",
        "        for _ in range(needed):\n",
        "            # Randomly select an original sample\n",
        "            orig_idx = np.random.choice(indices)\n",
        "            if orig_idx < len(train_segments):  # Safety check\n",
        "                # Apply augmentation\n",
        "                augmented = augment_signal(train_segments[orig_idx])\n",
        "                if augmented is not None and len(augmented) > 0:  # Verify the result\n",
        "                    balanced_segments.append(augmented)\n",
        "                    balanced_labels.append(class_idx)\n",
        "                else:\n",
        "                    print(f\"Warning: Augmentation returned None or empty for class {class_idx}\")\n",
        "            else:\n",
        "                print(f\"Warning: Invalid index {orig_idx} for class {class_idx}\")\n",
        "\n",
        "# Verify there are no None values or empty arrays\n",
        "balanced_segments = [seg for seg in balanced_segments if seg is not None and len(seg) > 0]\n",
        "balanced_labels = balanced_labels[:len(balanced_segments)]  # Trim labels to match\n",
        "\n",
        "print(f\"Final balanced dataset size: {len(balanced_segments)}\")\n",
        "print(\"Balanced class distribution:\", np.bincount(balanced_labels, minlength=4))\n",
        "\n",
        "# Replace original data with balanced data\n",
        "train_segments = balanced_segments\n",
        "train_labels = balanced_labels\n",
        "\n",
        "# Create datasets\n",
        "train_dataset = ECGSegmentDataset(train_segments, train_labels)\n",
        "val_dataset = ECGSegmentDataset(val_segments, val_labels)\n",
        "\n",
        "# Create dataloaders\n",
        "batch_size = 32\n",
        "train_loader = DataLoader(train_dataset, batch_size=batch_size, shuffle=True, drop_last=True) # Drop the last incomplete batch\n",
        "val_loader = DataLoader(val_dataset, batch_size=batch_size, shuffle=False, drop_last=True) # Drop the last incomplete batch\n",
        "\n",
        "# Dataset and loaders for transfer learning\n",
        "train_image_dataset = ECGImageDataset(train_segments, train_labels)\n",
        "val_image_dataset   = ECGImageDataset(val_segments,   val_labels)\n",
        "train_image_loader  = DataLoader(train_image_dataset, batch_size=batch_size, shuffle=True,  drop_last=True)\n",
        "val_image_loader    = DataLoader(val_image_dataset,   batch_size=batch_size, shuffle=False, drop_last=True)\n",
        "\n",
        "# After creating the datasets, check the shapes\n",
        "if len(train_dataset) > 0:\n",
        "    sample_input, sample_label = train_dataset[0]\n",
        "    print(f\"Sample input shape: {sample_input.shape}\")  # Should be [1, 9000]\n",
        "    print(f\"Sample label shape: {sample_label.shape}\")  # Should be [] (scalar)\n",
        "else:\n",
        "    print(\"Warning: Empty train dataset!\")\n",
        "\n",
        "# Check for empty batches\n",
        "for batch_idx, (inputs, labels) in enumerate(train_loader):\n",
        "    print(f\"First batch shape: {inputs.shape}, labels: {labels.shape}\")\n",
        "    break"
      ],
      "metadata": {
        "colab": {
          "base_uri": "https://localhost:8080/"
        },
        "id": "VmDIry6dIkFn",
        "outputId": "ff0d31d7-eee0-4379-f50b-7aa7110615c3"
      },
      "execution_count": 11,
      "outputs": [
        {
          "output_type": "stream",
          "name": "stdout",
          "text": [
            "Original class distribution: [3943  573 2079  120]\n",
            "Balancing classes to 3943 samples each\n",
            "Final balanced dataset size: 15772\n",
            "Balanced class distribution: [3943 3943 3943 3943]\n",
            "Sample input shape: torch.Size([1, 9000])\n",
            "Sample label shape: torch.Size([])\n",
            "First batch shape: torch.Size([32, 1, 9000]), labels: torch.Size([32])\n"
          ]
        }
      ]
    },
    {
      "cell_type": "code",
      "source": [
        "class FocalLoss(nn.Module):\n",
        "    \"\"\"\n",
        "    Focal Loss, as described in https://arxiv.org/abs/1708.02002.\n",
        "\n",
        "    It modifies standard cross-entropy loss to focus learning on hard examples\n",
        "    and down-weight easy examples. Useful for datasets with significant class\n",
        "    imbalance.\n",
        "    \"\"\"\n",
        "    def __init__(self, weight: torch.Tensor, gamma: float = 2.0):\n",
        "        super().__init__()\n",
        "        self.alpha = weight\n",
        "        self.gamma = gamma\n",
        "\n",
        "        self.alpha = self.alpha.to(dtype=torch.float32)\n",
        "\n",
        "\n",
        "    def forward(self, predictions: torch.Tensor, actuals: torch.Tensor) -> torch.Tensor:\n",
        "        \"\"\"\n",
        "        Parameters:\n",
        "          - predictions (Tensor): Logits from the model\n",
        "          - actuals (Tensor): Ground truth labels\n",
        "\n",
        "        Returns:\n",
        "            Tensor: Calculated focal loss.\n",
        "        \"\"\"\n",
        "        num_classes = predictions.shape[1]\n",
        "\n",
        "        if actuals.numel() == 0:\n",
        "            return predictions.sum() * 0.0\n",
        "\n",
        "        log_prob = F.log_softmax(predictions, dim=1)\n",
        "\n",
        "        # Gather log probabilities corresponding to the true classes\n",
        "        # Use view(-1, 1) to make actuals compatible with gather\n",
        "        log_pt = log_prob.gather(1, actuals.view(-1, 1)).squeeze(1)\n",
        "\n",
        "        pt = log_pt.exp()\n",
        "\n",
        "        focal_weight = (1 - pt).pow(self.gamma)\n",
        "\n",
        "        # Calculate the final loss: - alpha_t * (1 - pt) ** gamma * log_pt\n",
        "        loss = -focal_weight * log_pt\n",
        "\n",
        "        assert self.alpha.shape[0] == num_classes\n",
        "\n",
        "        alpha_t = self.alpha.gather(0, actuals)\n",
        "\n",
        "        loss = alpha_t * loss\n",
        "\n",
        "        loss = loss.mean()\n",
        "\n",
        "        return loss"
      ],
      "metadata": {
        "id": "zz6LfbgsNZbh"
      },
      "execution_count": 12,
      "outputs": []
    },
    {
      "cell_type": "code",
      "source": [
        "# Compute class weights\n",
        "unique_labels, counts = np.unique(train_labels, return_counts=True)\n",
        "class_weights = torch.tensor(1 / (counts+1e-5), dtype=torch.float).to(device)\n",
        "class_weights = F.normalize(class_weights, dim=-1)\n",
        "criterion = FocalLoss(weight=class_weights)\n",
        "print(\"The frequency of labels:\", counts)\n",
        "print(\"The weights of each label:\", class_weights)"
      ],
      "metadata": {
        "id": "vogrWwMcWp3A",
        "colab": {
          "base_uri": "https://localhost:8080/"
        },
        "outputId": "0a2ea26e-d173-4e20-9e76-5e09f202c395"
      },
      "execution_count": 13,
      "outputs": [
        {
          "output_type": "stream",
          "name": "stdout",
          "text": [
            "The frequency of labels: [3943 3943 3943 3943]\n",
            "The weights of each label: tensor([0.5000, 0.5000, 0.5000, 0.5000], device='cuda:0')\n"
          ]
        }
      ]
    },
    {
      "cell_type": "code",
      "source": [
        "# Train models\n",
        "models = {\n",
        "    # 'LSTM': ECG_LSTM(),\n",
        "    #'BI-LSTM': ECG_BILSTM(),\n",
        "    # 'CNN': ECG_CNN(),\n",
        "    # 'RNN': ECG_RNN(),\n",
        "    'Transfer': ECG_TransferNet()\n",
        "}\n",
        "results = {}\n",
        "for name, model in models.items():\n",
        "    print(f\"\\nTraining {name} model...\")\n",
        "    optimizer = optim.Adam(model.parameters(), lr=0.0001, weight_decay=1e-4)\n",
        "    if name == 'Transfer':\n",
        "        dl_train, dl_val = train_image_loader, val_image_loader\n",
        "    else:\n",
        "        dl_train, dl_val = train_loader, val_loader\n",
        "\n",
        "    trained_model, history = train_model(\n",
        "        model, dl_train, dl_val, criterion, optimizer, num_epochs=5, patience=5\n",
        "    )\n",
        "    results[name] = {'model': trained_model, 'history': history}\n",
        "    torch.save(trained_model.state_dict(), f'ecg_{name.lower()}_model.pth')"
      ],
      "metadata": {
        "colab": {
          "base_uri": "https://localhost:8080/"
        },
        "id": "1_6VYp8EJQsu",
        "outputId": "ea0d3108-d667-481c-b683-74f01effd85e"
      },
      "execution_count": 14,
      "outputs": [
        {
          "output_type": "stream",
          "name": "stderr",
          "text": [
            "/usr/local/lib/python3.11/dist-packages/torchvision/models/_utils.py:208: UserWarning: The parameter 'pretrained' is deprecated since 0.13 and may be removed in the future, please use 'weights' instead.\n",
            "  warnings.warn(\n",
            "/usr/local/lib/python3.11/dist-packages/torchvision/models/_utils.py:223: UserWarning: Arguments other than a weight enum or `None` for 'weights' are deprecated since 0.13 and may be removed in the future. The current behavior is equivalent to passing `weights=EfficientNet_V2_S_Weights.IMAGENET1K_V1`. You can also use `weights=EfficientNet_V2_S_Weights.DEFAULT` to get the most up-to-date weights.\n",
            "  warnings.warn(msg)\n"
          ]
        },
        {
          "output_type": "stream",
          "name": "stdout",
          "text": [
            "\n",
            "Training Transfer model...\n"
          ]
        },
        {
          "output_type": "stream",
          "name": "stderr",
          "text": [
            "\rEpoch 1/5:   0%|          | 0/492 [00:00<?, ?it/s]<ipython-input-10-2e5273649a61>:86: MatplotlibDeprecationWarning: The get_cmap function was deprecated in Matplotlib 3.7 and will be removed in 3.11. Use ``matplotlib.colormaps[name]`` or ``matplotlib.colormaps.get_cmap()`` or ``pyplot.get_cmap()`` instead.\n",
            "  cmap = mpl_cm.get_cmap(cmap_name)\n",
            "Epoch 1/5: 100%|██████████| 492/492 [01:20<00:00,  6.13it/s]\n"
          ]
        },
        {
          "output_type": "stream",
          "name": "stdout",
          "text": [
            "Train Loss: 0.3548, Train Acc: 0.3784\n",
            "Val Loss: 0.3333, Val Acc: 0.3858\n"
          ]
        },
        {
          "output_type": "stream",
          "name": "stderr",
          "text": [
            "Epoch 2/5: 100%|██████████| 492/492 [01:20<00:00,  6.12it/s]\n"
          ]
        },
        {
          "output_type": "stream",
          "name": "stdout",
          "text": [
            "Train Loss: 0.3247, Train Acc: 0.4439\n",
            "Val Loss: 0.3193, Val Acc: 0.4117\n"
          ]
        },
        {
          "output_type": "stream",
          "name": "stderr",
          "text": [
            "Epoch 3/5: 100%|██████████| 492/492 [01:21<00:00,  6.06it/s]\n"
          ]
        },
        {
          "output_type": "stream",
          "name": "stdout",
          "text": [
            "Train Loss: 0.3163, Train Acc: 0.4616\n",
            "Val Loss: 0.3286, Val Acc: 0.4129\n"
          ]
        },
        {
          "output_type": "stream",
          "name": "stderr",
          "text": [
            "Epoch 4/5: 100%|██████████| 492/492 [01:20<00:00,  6.11it/s]\n"
          ]
        },
        {
          "output_type": "stream",
          "name": "stdout",
          "text": [
            "Train Loss: 0.3087, Train Acc: 0.4705\n",
            "Val Loss: 0.3142, Val Acc: 0.4147\n"
          ]
        },
        {
          "output_type": "stream",
          "name": "stderr",
          "text": [
            "Epoch 5/5: 100%|██████████| 492/492 [01:21<00:00,  6.06it/s]\n"
          ]
        },
        {
          "output_type": "stream",
          "name": "stdout",
          "text": [
            "Train Loss: 0.3061, Train Acc: 0.4794\n",
            "Val Loss: 0.3089, Val Acc: 0.4243\n"
          ]
        }
      ]
    },
    {
      "cell_type": "code",
      "source": [
        "from sklearn.metrics import confusion_matrix, classification_report, accuracy_score, f1_score, precision_score, recall_score\n",
        "\n",
        "def evaluate_model(model, data_loader):\n",
        "    model.eval()\n",
        "    all_preds = []\n",
        "    all_labels = []\n",
        "\n",
        "    with torch.no_grad():\n",
        "        for inputs, labels in data_loader:\n",
        "            inputs = inputs.to(device)\n",
        "            labels = labels.to(device).squeeze()\n",
        "\n",
        "            outputs = model(inputs)\n",
        "            _, preds = torch.max(outputs, 1)\n",
        "\n",
        "            all_preds.extend(preds.cpu().numpy())\n",
        "            all_labels.extend(labels.cpu().numpy())\n",
        "\n",
        "    return all_labels, all_preds\n",
        "\n",
        "for name in models.keys():\n",
        "    print(f\"\\nEvaluating {name} model...\")\n",
        "    model = results[name]['model']\n",
        "    if name == 'Transfer':\n",
        "        loader = val_image_loader\n",
        "    else:\n",
        "        loader = val_loader\n",
        "\n",
        "    val_labels, val_preds = evaluate_model(model, loader)\n",
        "\n",
        "    # Confusion matrix\n",
        "    cm = confusion_matrix(val_labels, val_preds)\n",
        "    plt.figure(figsize=(8, 6))\n",
        "    sns.heatmap(cm, annot=True, fmt='d', cmap='Blues',\n",
        "                xticklabels=label_map.keys(), yticklabels=label_map.keys())\n",
        "    plt.title(f'Confusion Matrix ({name})')\n",
        "    plt.xlabel('Predicted')\n",
        "    plt.ylabel('True')\n",
        "    plt.show()\n",
        "\n",
        "    # Classification report\n",
        "    print(classification_report(val_labels, val_preds, target_names=label_map.keys(), zero_division=0))\n",
        "\n",
        "    # Additional metrics\n",
        "    accuracy = accuracy_score(val_labels, val_preds)\n",
        "    precision_macro = precision_score(val_labels, val_preds, average='macro')\n",
        "    recall_macro = recall_score(val_labels, val_preds, average='macro')\n",
        "    f1_macro = f1_score(val_labels, val_preds, average='macro')\n",
        "    precision_weighted = precision_score(val_labels, val_preds, average='weighted')\n",
        "    recall_weighted = recall_score(val_labels, val_preds, average='weighted')\n",
        "    f1_weighted = f1_score(val_labels, val_preds, average='weighted')\n",
        "\n",
        "    print(f\"\\nAdditional Metrics for {name}:\")\n",
        "    print(f\"Accuracy: {accuracy:.4f}\")\n",
        "    print(f\"Macro Precision: {precision_macro:.4f}\")\n",
        "    print(f\"Macro Recall: {recall_macro:.4f}\")\n",
        "    print(f\"Macro F1: {f1_macro:.4f}\")\n",
        "    print(f\"Weighted Precision: {precision_weighted:.4f}\")\n",
        "    print(f\"Weighted Recall: {recall_weighted:.4f}\")\n",
        "    print(f\"Weighted F1: {f1_weighted:.4f}\")\n",
        "\n",
        "    # Plot learning curves\n",
        "    history = results[name]['history']\n",
        "    plt.figure(figsize=(12, 4))\n",
        "    plt.subplot(1, 2, 1)\n",
        "    plt.plot(history['train_losses'], label='Training Loss')\n",
        "    plt.plot(history['val_losses'], label='Validation Loss')\n",
        "    plt.title(f'Loss Curves ({name})')\n",
        "    plt.xlabel('Epoch')\n",
        "    plt.ylabel('Loss')\n",
        "    plt.legend()\n",
        "\n",
        "    plt.subplot(1, 2, 2)\n",
        "    plt.plot(history['train_accs'], label='Training Accuracy')\n",
        "    plt.plot(history['val_accs'], label='Validation Accuracy')\n",
        "    plt.title(f'Accuracy Curves ({name})')\n",
        "    plt.xlabel('Epoch')\n",
        "    plt.ylabel('Accuracy')\n",
        "    plt.legend()\n",
        "\n",
        "    plt.tight_layout()\n",
        "    plt.show()\n",
        "\n",
        "    # Per-class accuracy\n",
        "    class_acc = cm.diagonal() / cm.sum(axis=1)\n",
        "    plt.figure(figsize=(8, 6))\n",
        "    sns.barplot(x=list(label_map.keys()), y=class_acc)\n",
        "    plt.title(f'Per-Class Accuracy ({name})')\n",
        "    plt.xlabel('Class')\n",
        "    plt.ylabel('Accuracy')\n",
        "    plt.ylim(0, 1)\n",
        "    plt.show()\n",
        "\n",
        "    # Save predictions for further analysis\n",
        "    pred_df = pd.DataFrame({\n",
        "        'true_label': [list(label_map.keys())[i] for i in val_labels],\n",
        "        'pred_label': [list(label_map.keys())[i] for i in val_preds]\n",
        "    })\n",
        "    pred_df.to_csv(f'{name}_predictions.csv', index=False)\n",
        "\n",
        "    # Save misclassified examples\n",
        "    misclassified = np.where(np.array(val_labels) != np.array(val_preds))[0]\n",
        "    if len(misclassified) > 0:\n",
        "        print(f\"\\nFirst misclassified example for {name}:\")\n",
        "        idx = misclassified[0]\n",
        "        plt.figure(figsize=(10, 3))\n",
        "        plt.plot(val_segments[idx])\n",
        "        plt.title(f\"True: {list(label_map.keys())[val_labels[idx]]}, Pred: {list(label_map.keys())[val_preds[idx]]}\")\n",
        "        plt.xlabel(\"Sample\")\n",
        "        plt.ylabel(\"Amplitude\")\n",
        "        plt.show()"
      ],
      "metadata": {
        "id": "NNTNREn7DrzG",
        "colab": {
          "base_uri": "https://localhost:8080/",
          "height": 1000
        },
        "outputId": "4ad5e1fd-d227-4b22-c4a7-c261d29d0561"
      },
      "execution_count": 15,
      "outputs": [
        {
          "output_type": "stream",
          "name": "stdout",
          "text": [
            "\n",
            "Evaluating Transfer model...\n"
          ]
        },
        {
          "output_type": "stream",
          "name": "stderr",
          "text": [
            "<ipython-input-10-2e5273649a61>:86: MatplotlibDeprecationWarning: The get_cmap function was deprecated in Matplotlib 3.7 and will be removed in 3.11. Use ``matplotlib.colormaps[name]`` or ``matplotlib.colormaps.get_cmap()`` or ``pyplot.get_cmap()`` instead.\n",
            "  cmap = mpl_cm.get_cmap(cmap_name)\n"
          ]
        },
        {
          "output_type": "display_data",
          "data": {
            "text/plain": [
              "<Figure size 800x600 with 2 Axes>"
            ],
            "image/png": "[encoded data removed]"
          },
          "metadata": {}
        },
        {
          "output_type": "stream",
          "name": "stdout",
          "text": [
            "              precision    recall  f1-score   support\n",
            "\n",
            "           N       0.72      0.46      0.56       979\n",
            "           A       0.24      0.45      0.31       139\n",
            "           O       0.39      0.32      0.35       515\n",
            "           ~       0.07      0.77      0.13        31\n",
            "\n",
            "    accuracy                           0.42      1664\n",
            "   macro avg       0.36      0.50      0.34      1664\n",
            "weighted avg       0.57      0.42      0.47      1664\n",
            "\n",
            "\n",
            "Additional Metrics for Transfer:\n",
            "Accuracy: 0.4243\n",
            "Macro Precision: 0.3550\n",
            "Macro Recall: 0.5033\n",
            "Macro F1: 0.3390\n",
            "Weighted Precision: 0.5679\n",
            "Weighted Recall: 0.4243\n",
            "Weighted F1: 0.4697\n"
          ]
        },
        {
          "output_type": "display_data",
          "data": {
            "text/plain": [
              "<Figure size 1200x400 with 2 Axes>"
            ],
            "image/png": "[encoded data removed]"
          },
          "metadata": {}
        },
        {
          "output_type": "display_data",
          "data": {
            "text/plain": [
              "<Figure size 800x600 with 1 Axes>"
            ],
            "image/png": "[encoded data removed]"
          },
          "metadata": {}
        },
        {
          "output_type": "stream",
          "name": "stdout",
          "text": [
            "\n",
            "First misclassified example for Transfer:\n"
          ]
        },
        {
          "output_type": "display_data",
          "data": {
            "text/plain": [
              "<Figure size 1000x300 with 1 Axes>"
            ],
            "image/png": "[encoded data removed]"
          },
          "metadata": {}
        }
      ]
    },
    {
      "cell_type": "code",
      "source": [
        "# Cross-validation for best model\n",
        "\"\"\"\n",
        "best_model_name = max(results.keys(), key=lambda x: accuracy_score(\n",
        "    evaluate_model(results[x]['model'], val_loader)[0],\n",
        "    evaluate_model(results[x]['model'], val_loader)[1]\n",
        "))\"\"\"\n",
        "\n",
        "def get_val(loader_name, model):\n",
        "    return evaluate_model(model, val_image_loader if loader_name=='Transfer' else val_loader)\n",
        "\n",
        "best_model_name = max(\n",
        "    results.keys(),\n",
        "    key=lambda n: accuracy_score(*get_val(n, results[n]['model']))\n",
        ")\n",
        "\n",
        "print(f\"\\nBest performing model: {best_model_name}\")\n",
        "\n",
        "# Prepare for k-fold cross-validation on best model\n",
        "all_segments = train_segments\n",
        "all_labels = train_labels\n",
        "all_segments_np = np.array(all_segments)\n",
        "all_labels_np = np.array(all_labels)\n",
        "\n",
        "k = 5\n",
        "skf = StratifiedKFold(n_splits=k, shuffle=True, random_state=42)\n",
        "fold_metrics = []\n",
        "\n",
        "if best_model_name == 'Transfer':\n",
        "    ChosenECGDataset = ECGImageDataset\n",
        "else:\n",
        "    ChosenECGDataset = ECGSegmentDataset\n",
        "\n",
        "print(f\"\\nPerforming {k}-fold cross-validation for {best_model_name}...\")\n",
        "for fold, (train_idx, val_idx) in enumerate(skf.split(all_segments_np, all_labels_np)):\n",
        "    print(f\"\\nFold {fold+1}/{k}\")\n",
        "\n",
        "    train_segments_fold = [all_segments_np[i] for i in train_idx]\n",
        "    train_labels_fold = [all_labels_np[i] for i in train_idx]\n",
        "    val_segments_fold = [all_segments_np[i] for i in val_idx]\n",
        "    val_labels_fold = [all_labels_np[i] for i in val_idx]\n",
        "\n",
        "    train_dataset_fold = ChosenECGDataset(train_segments_fold, train_labels_fold)\n",
        "    val_dataset_fold = ChosenECGDataset(val_segments_fold, val_labels_fold)\n",
        "    train_loader_fold = DataLoader(train_dataset_fold, batch_size=32, shuffle=True)\n",
        "    val_loader_fold = DataLoader(val_dataset_fold, batch_size=32, shuffle=False)\n",
        "\n",
        "    if best_model_name == 'CNN':\n",
        "        model_fold = ECG_CNN()\n",
        "    elif best_model_name == 'LSTM':\n",
        "        model_fold = ECG_LSTM()\n",
        "    elif best_model_name == 'RNN':\n",
        "        model_fold = ECG_RNN()\n",
        "    else:\n",
        "        model_fold = ECG_TransferNet()\n",
        "\n",
        "    criterion_fold = nn.CrossEntropyLoss(weight=class_weights)\n",
        "    optimizer_fold = optim.Adam(model_fold.parameters(), lr=0.0001, weight_decay=1e-4)\n",
        "    trained_model_fold, _ = train_model(\n",
        "        model_fold, train_loader_fold, val_loader_fold,\n",
        "        criterion_fold, optimizer_fold, num_epochs=20, patience=5\n",
        "    )\n",
        "\n",
        "    val_labels_fold, val_preds_fold = evaluate_model(trained_model_fold, val_loader_fold)\n",
        "    report_fold = classification_report(\n",
        "        val_labels_fold, val_preds_fold,\n",
        "        target_names=label_map.keys(), output_dict=True\n",
        "    )\n",
        "    fold_metrics.append(report_fold)\n",
        "\n",
        "avg_metrics = {}\n",
        "for metric in fold_metrics[0].keys():\n",
        "    if metric in label_map.keys() or metric in ['accuracy', 'macro avg', 'weighted avg']:\n",
        "        if metric == 'accuracy':\n",
        "            avg_metrics[metric] = np.mean([fold[metric] for fold in fold_metrics])\n",
        "        else:\n",
        "            avg_metrics[metric] = {}\n",
        "            for sub_metric in fold_metrics[0][metric].keys():\n",
        "                avg_metrics[metric][sub_metric] = np.mean([fold[metric][sub_metric] for fold in fold_metrics])\n",
        "\n",
        "print(\"\\nAverage Metrics Across K-Folds:\")\n",
        "for metric, values in avg_metrics.items():\n",
        "    if isinstance(values, dict):\n",
        "        print(f\"{metric}:\")\n",
        "        for sub_metric, value in values.items():\n",
        "            print(f\"  {sub_metric}: {value:.4f}\")\n",
        "    else:\n",
        "        print(f\"{metric}: {values:.4f}\")"
      ],
      "metadata": {
        "id": "yWLB-YJjZ2d3",
        "colab": {
          "base_uri": "https://localhost:8080/"
        },
        "outputId": "d225114c-0c3e-4a1e-8a10-a99fb145b278"
      },
      "execution_count": null,
      "outputs": [
        {
          "output_type": "stream",
          "name": "stderr",
          "text": [
            "<ipython-input-10-2e5273649a61>:86: MatplotlibDeprecationWarning: The get_cmap function was deprecated in Matplotlib 3.7 and will be removed in 3.11. Use ``matplotlib.colormaps[name]`` or ``matplotlib.colormaps.get_cmap()`` or ``pyplot.get_cmap()`` instead.\n",
            "  cmap = mpl_cm.get_cmap(cmap_name)\n"
          ]
        },
        {
          "output_type": "stream",
          "name": "stdout",
          "text": [
            "\n",
            "Best performing model: Transfer\n",
            "\n",
            "Performing 5-fold cross-validation for Transfer...\n",
            "\n",
            "Fold 1/5\n"
          ]
        },
        {
          "output_type": "stream",
          "name": "stderr",
          "text": [
            "/usr/local/lib/python3.11/dist-packages/torchvision/models/_utils.py:208: UserWarning: The parameter 'pretrained' is deprecated since 0.13 and may be removed in the future, please use 'weights' instead.\n",
            "  warnings.warn(\n",
            "/usr/local/lib/python3.11/dist-packages/torchvision/models/_utils.py:223: UserWarning: Arguments other than a weight enum or `None` for 'weights' are deprecated since 0.13 and may be removed in the future. The current behavior is equivalent to passing `weights=EfficientNet_V2_S_Weights.IMAGENET1K_V1`. You can also use `weights=EfficientNet_V2_S_Weights.DEFAULT` to get the most up-to-date weights.\n",
            "  warnings.warn(msg)\n",
            "Epoch 1/20:   0%|          | 0/395 [00:00<?, ?it/s]<ipython-input-10-2e5273649a61>:86: MatplotlibDeprecationWarning: The get_cmap function was deprecated in Matplotlib 3.7 and will be removed in 3.11. Use ``matplotlib.colormaps[name]`` or ``matplotlib.colormaps.get_cmap()`` or ``pyplot.get_cmap()`` instead.\n",
            "  cmap = mpl_cm.get_cmap(cmap_name)\n",
            "Epoch 1/20: 100%|██████████| 395/395 [01:05<00:00,  6.02it/s]\n"
          ]
        },
        {
          "output_type": "stream",
          "name": "stdout",
          "text": [
            "Train Loss: 1.3162, Train Acc: 0.3739\n",
            "Val Loss: 1.2477, Val Acc: 0.4460\n"
          ]
        },
        {
          "output_type": "stream",
          "name": "stderr",
          "text": [
            "Epoch 2/20: 100%|██████████| 395/395 [01:05<00:00,  6.05it/s]\n"
          ]
        },
        {
          "output_type": "stream",
          "name": "stdout",
          "text": [
            "Train Loss: 1.2344, Train Acc: 0.4409\n",
            "Val Loss: 1.2033, Val Acc: 0.4697\n"
          ]
        },
        {
          "output_type": "stream",
          "name": "stderr",
          "text": [
            "Epoch 3/20: 100%|██████████| 395/395 [01:05<00:00,  6.04it/s]\n"
          ]
        },
        {
          "output_type": "stream",
          "name": "stdout",
          "text": [
            "Train Loss: 1.2049, Train Acc: 0.4572\n",
            "Val Loss: 1.1768, Val Acc: 0.4865\n"
          ]
        },
        {
          "output_type": "stream",
          "name": "stderr",
          "text": [
            "Epoch 4/20: 100%|██████████| 395/395 [01:05<00:00,  6.07it/s]\n"
          ]
        },
        {
          "output_type": "stream",
          "name": "stdout",
          "text": [
            "Train Loss: 1.1855, Train Acc: 0.4728\n",
            "Val Loss: 1.1630, Val Acc: 0.4875\n"
          ]
        },
        {
          "output_type": "stream",
          "name": "stderr",
          "text": [
            "Epoch 5/20: 100%|██████████| 395/395 [01:05<00:00,  6.07it/s]\n"
          ]
        },
        {
          "output_type": "stream",
          "name": "stdout",
          "text": [
            "Train Loss: 1.1835, Train Acc: 0.4707\n",
            "Val Loss: 1.1583, Val Acc: 0.4976\n"
          ]
        },
        {
          "output_type": "stream",
          "name": "stderr",
          "text": [
            "Epoch 6/20: 100%|██████████| 395/395 [01:05<00:00,  6.05it/s]\n"
          ]
        },
        {
          "output_type": "stream",
          "name": "stdout",
          "text": [
            "Train Loss: 1.1706, Train Acc: 0.4812\n",
            "Val Loss: 1.1443, Val Acc: 0.5113\n"
          ]
        },
        {
          "output_type": "stream",
          "name": "stderr",
          "text": [
            "Epoch 7/20: 100%|██████████| 395/395 [01:05<00:00,  6.07it/s]\n"
          ]
        },
        {
          "output_type": "stream",
          "name": "stdout",
          "text": [
            "Train Loss: 1.1645, Train Acc: 0.4794\n",
            "Val Loss: 1.1432, Val Acc: 0.4960\n"
          ]
        },
        {
          "output_type": "stream",
          "name": "stderr",
          "text": [
            "Epoch 8/20: 100%|██████████| 395/395 [01:05<00:00,  6.00it/s]\n"
          ]
        },
        {
          "output_type": "stream",
          "name": "stdout",
          "text": [
            "Train Loss: 1.1592, Train Acc: 0.4831\n",
            "Val Loss: 1.1424, Val Acc: 0.4900\n"
          ]
        },
        {
          "output_type": "stream",
          "name": "stderr",
          "text": [
            "Epoch 9/20: 100%|██████████| 395/395 [01:06<00:00,  5.98it/s]\n"
          ]
        },
        {
          "output_type": "stream",
          "name": "stdout",
          "text": [
            "Train Loss: 1.1593, Train Acc: 0.4852\n",
            "Val Loss: 1.1341, Val Acc: 0.5074\n"
          ]
        },
        {
          "output_type": "stream",
          "name": "stderr",
          "text": [
            "Epoch 10/20:  93%|█████████▎| 369/395 [01:01<00:04,  5.38it/s]"
          ]
        }
      ]
    },
    {
      "cell_type": "code",
      "source": [],
      "metadata": {
        "id": "I53_7aW_uD_o"
      },
      "execution_count": null,
      "outputs": []
    }
  ]
}